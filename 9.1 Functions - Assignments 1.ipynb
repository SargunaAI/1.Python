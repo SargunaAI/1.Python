{
 "cells": [
  {
   "cell_type": "code",
   "execution_count": 8,
   "metadata": {},
   "outputs": [],
   "source": [
    "def Subfields():\n",
    "    Lists=[\"Sub-fields in AI are:\",\"Machine learning\",\"Neural Networks\",\"Vision\",\"Robotics\",\"Speech Processing\",\"Natural Language Processing\"]\n",
    "    for subfields in Lists:\n",
    "        print(subfields)\n",
    "        Variable=\"subfields\"\n",
    "    return Variable"
   ]
  },
  {
   "cell_type": "code",
   "execution_count": 9,
   "metadata": {},
   "outputs": [
    {
     "name": "stdout",
     "output_type": "stream",
     "text": [
      "Sub-fields in AI are:\n",
      "Machine learning\n",
      "Neural Networks\n",
      "Vision\n",
      "Robotics\n",
      "Speech Processing\n",
      "Natural Language Processing\n"
     ]
    },
    {
     "data": {
      "text/plain": [
       "'subfields'"
      ]
     },
     "execution_count": 9,
     "metadata": {},
     "output_type": "execute_result"
    }
   ],
   "source": [
    "Subfields()"
   ]
  },
  {
   "cell_type": "code",
   "execution_count": 32,
   "metadata": {},
   "outputs": [],
   "source": [
    "def OddEven():\n",
    "    a=int(input(\"Enter a number:\"))\n",
    "    if(a%2)==1:\n",
    "        print(a,\"is Odd number\")\n",
    "        Variable=\"a,is Odd number\"\n",
    "    else:\n",
    "        print(a,\"is Even Number\")\n",
    "        Variable=(\"a,is Even Number\")\n",
    "    return Variable"
   ]
  },
  {
   "cell_type": "code",
   "execution_count": 33,
   "metadata": {},
   "outputs": [
    {
     "name": "stdout",
     "output_type": "stream",
     "text": [
      "Enter a number:4\n",
      "4 is Even Number\n"
     ]
    },
    {
     "data": {
      "text/plain": [
       "'a,is Even Number'"
      ]
     },
     "execution_count": 33,
     "metadata": {},
     "output_type": "execute_result"
    }
   ],
   "source": [
    "OddEven()"
   ]
  },
  {
   "cell_type": "code",
   "execution_count": 5,
   "metadata": {},
   "outputs": [],
   "source": [
    "def Marriage():\n",
    "    Gender=input(\"Your Gender:\")\n",
    "    Age=int(input(\"Your age :\"))\n",
    "    if(Age<21):\n",
    "        print(\"NOT ELIGIBLE\")\n",
    "        Variable=\"NOT ELIGIBLE\"\n",
    "    else:\n",
    "        print(\"ELIGIBLE\")\n",
    "        Variable=\"ELIGIBLE\"\n",
    "    return Marriage"
   ]
  },
  {
   "cell_type": "code",
   "execution_count": 8,
   "metadata": {},
   "outputs": [
    {
     "name": "stdout",
     "output_type": "stream",
     "text": [
      "Your Gender:Male\n",
      "Your age :18\n",
      "NOT ELIGIBLE\n"
     ]
    },
    {
     "data": {
      "text/plain": [
       "<function __main__.Marriage()>"
      ]
     },
     "execution_count": 8,
     "metadata": {},
     "output_type": "execute_result"
    }
   ],
   "source": [
    "Marriage()"
   ]
  },
  {
   "cell_type": "code",
   "execution_count": 15,
   "metadata": {},
   "outputs": [],
   "source": [
    "def Percentage():\n",
    "    Subj1=int(input(\"Subject1:\"))\n",
    "    Subj2=int(input(\"Subject2:\"))\n",
    "    Subj3=int(input(\"Subject3:\"))\n",
    "    Subj4=int(input(\"Subject4:\"))\n",
    "    Subj5=int(input(\"Subject5:\"))\n",
    "    Add=(Subj1+Subj2+Subj3+Subj4+Subj5)\n",
    "    Perc=((Add/500)*100)\n",
    "    print(\"Total:\",Add)\n",
    "    Variable=\"Total:\",Add\n",
    "    print(\"Percentage=\",Perc)\n",
    "    Variable=\"Percentage=\",Perc\n",
    "    return Variable"
   ]
  },
  {
   "cell_type": "code",
   "execution_count": 16,
   "metadata": {},
   "outputs": [
    {
     "name": "stdout",
     "output_type": "stream",
     "text": [
      "Subject1:23\n",
      "Subject2:45\n",
      "Subject3:34\n",
      "Subject4:23\n",
      "Subject5:23\n",
      "Total: 148\n",
      "Percentage= 29.599999999999998\n"
     ]
    },
    {
     "data": {
      "text/plain": [
       "('Percentage=', 29.599999999999998)"
      ]
     },
     "execution_count": 16,
     "metadata": {},
     "output_type": "execute_result"
    }
   ],
   "source": [
    "Percentage()"
   ]
  },
  {
   "cell_type": "code",
   "execution_count": 17,
   "metadata": {},
   "outputs": [],
   "source": [
    "def triangle():\n",
    "    Ht=int(input(\"Height:\"))\n",
    "    Br1=int(input(\"Breadth:\"))\n",
    "    AreaTri=((Ht*Br1)/2)\n",
    "    print(\"Area formula: (Height*Breadth)/2\")\n",
    "    Variable=\"Area formula: (Height*Breadth)/2\"\n",
    "    print(\"Area of Triangle:\",AreaTri)\n",
    "    Variable=\"Area of Triangle:\",AreaTri\n",
    "    Ht1=int(input(\"Height1:\"))\n",
    "    Ht2=int(input(\"Height2:\"))\n",
    "    Br2=int(input(\"Breadth1:\"))\n",
    "    PeriTri=(Ht1+Ht2+Br2)\n",
    "    print(\"Perimeter formula: Height1+Height2+Breadth\")\n",
    "    Variable=\"Perimeter formula: Height1+Height2+Breadth\"\n",
    "    print(\"Area of Perimeter:\",PeriTri)\n",
    "    Variable=\"Area of Perimeter:\",PeriTri\n",
    "    return Variable"
   ]
  },
  {
   "cell_type": "code",
   "execution_count": 19,
   "metadata": {},
   "outputs": [
    {
     "name": "stdout",
     "output_type": "stream",
     "text": [
      "Height:3\n",
      "Breadth:4\n",
      "Area formula: (Height*Breadth)/2\n",
      "Area of Triangle: 6.0\n",
      "Height1:3\n",
      "Height2:4\n",
      "Breadth1:45\n",
      "Perimeter formula: Height1+Height2+Breadth\n",
      "Area of Perimeter: 52\n"
     ]
    },
    {
     "data": {
      "text/plain": [
       "('Area of Perimeter:', 52)"
      ]
     },
     "execution_count": 19,
     "metadata": {},
     "output_type": "execute_result"
    }
   ],
   "source": [
    "triangle()"
   ]
  },
  {
   "cell_type": "code",
   "execution_count": null,
   "metadata": {},
   "outputs": [],
   "source": []
  }
 ],
 "metadata": {
  "kernelspec": {
   "display_name": "Python 3",
   "language": "python",
   "name": "python3"
  },
  "language_info": {
   "codemirror_mode": {
    "name": "ipython",
    "version": 3
   },
   "file_extension": ".py",
   "mimetype": "text/x-python",
   "name": "python",
   "nbconvert_exporter": "python",
   "pygments_lexer": "ipython3",
   "version": "3.7.4"
  }
 },
 "nbformat": 4,
 "nbformat_minor": 2
}
