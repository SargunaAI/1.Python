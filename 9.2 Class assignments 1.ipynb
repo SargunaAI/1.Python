{
 "cells": [
  {
   "cell_type": "code",
   "execution_count": 2,
   "metadata": {},
   "outputs": [],
   "source": [
    "class SubfieldsInAI:\n",
    "    def Subfields():\n",
    "        Lists=[\"Sub-fields in AI are:\",\"Machine learning\",\"Neural Networks\",\"Vision\",\"Robotics\",\"Speech Processing\",\"Natural Language Processing\"]\n",
    "        for Subfields in Lists:\n",
    "            print(Subfields)\n",
    "            Variable=\"subfields\"\n",
    "        return Variable"
   ]
  },
  {
   "cell_type": "code",
   "execution_count": 3,
   "metadata": {},
   "outputs": [
    {
     "name": "stdout",
     "output_type": "stream",
     "text": [
      "Sub-fields in AI are:\n",
      "Machine learning\n",
      "Neural Networks\n",
      "Vision\n",
      "Robotics\n",
      "Speech Processing\n",
      "Natural Language Processing\n"
     ]
    },
    {
     "data": {
      "text/plain": [
       "'subfields'"
      ]
     },
     "execution_count": 3,
     "metadata": {},
     "output_type": "execute_result"
    }
   ],
   "source": [
    "SubfieldsInAI.Subfields()"
   ]
  },
  {
   "cell_type": "code",
   "execution_count": 4,
   "metadata": {},
   "outputs": [],
   "source": [
    "class OddEven:\n",
    "    def OddEven():\n",
    "        a=int(input(\"Enter a number:\"))\n",
    "        if(a%2)==1:\n",
    "            print(a,\"is Odd number\")\n",
    "            Variable=\"a,is Odd number\"\n",
    "        else:\n",
    "            print(a,\"is Even Number\")\n",
    "            Variable=(\"a,is Even Number\")\n",
    "        return Variable"
   ]
  },
  {
   "cell_type": "code",
   "execution_count": 5,
   "metadata": {},
   "outputs": [
    {
     "name": "stdout",
     "output_type": "stream",
     "text": [
      "Enter a number:52452\n",
      "52452 is Even Number\n"
     ]
    },
    {
     "data": {
      "text/plain": [
       "'a,is Even Number'"
      ]
     },
     "execution_count": 5,
     "metadata": {},
     "output_type": "execute_result"
    }
   ],
   "source": [
    "OddEven.OddEven()"
   ]
  },
  {
   "cell_type": "code",
   "execution_count": 11,
   "metadata": {},
   "outputs": [],
   "source": [
    "class EligibilityForMarriage:\n",
    "    def Eligibility():\n",
    "        Gender=input(\"Your Gender:\")\n",
    "        Age=int(input(\"Your age :\"))\n",
    "        if(Age<21):\n",
    "            print(\"NOT ELIGIBLE\")\n",
    "            Variable=\"NOT ELIGIBLE\"\n",
    "        else:\n",
    "            print(\"ELIGIBLE\")\n",
    "            Variable=\"ELIGIBLE\"\n",
    "        Gender=input(\"Your Gender:\")\n",
    "        Age=int(input(\"Your age :\"))\n",
    "        if(Age<18):\n",
    "            print(\"NOT ELIGIBLE\")\n",
    "            Variable=\"NOT ELIGIBLE\"\n",
    "        else:\n",
    "            print(\"ELIGIBLE\")\n",
    "            Variable=\"ELIGIBLE\"\n",
    "        return Variable"
   ]
  },
  {
   "cell_type": "code",
   "execution_count": 12,
   "metadata": {},
   "outputs": [
    {
     "name": "stdout",
     "output_type": "stream",
     "text": [
      "Your Gender:Male\n",
      "Your age :20\n",
      "NOT ELIGIBLE\n",
      "Your Gender:Female\n",
      "Your age :20\n",
      "ELIGIBLE\n"
     ]
    },
    {
     "data": {
      "text/plain": [
       "'ELIGIBLE'"
      ]
     },
     "execution_count": 12,
     "metadata": {},
     "output_type": "execute_result"
    }
   ],
   "source": [
    "EligibilityForMarriage.Eligibility()"
   ]
  },
  {
   "cell_type": "code",
   "execution_count": 5,
   "metadata": {},
   "outputs": [],
   "source": [
    "class Findpercentage:\n",
    "    def Percentage():\n",
    "        Subj1=int(input(\"Subject1:\"))\n",
    "        Subj2=int(input(\"Subject2:\"))\n",
    "        Subj3=int(input(\"Subject3:\"))\n",
    "        Subj4=int(input(\"Subject4:\"))\n",
    "        Subj5=int(input(\"Subject5:\"))\n",
    "        Add=(Subj1+Subj2+Subj3+Subj4+Subj5)\n",
    "        Perc=((Add/500)*100)\n",
    "        print(\"Total:\",Add)\n",
    "        Variable=\"Total:\",Add\n",
    "        print(\"Percentage=\",Perc)\n",
    "        Variable=\"Percentage=\",Perc\n",
    "        return Variable"
   ]
  },
  {
   "cell_type": "code",
   "execution_count": 6,
   "metadata": {},
   "outputs": [
    {
     "name": "stdout",
     "output_type": "stream",
     "text": [
      "Subject1:98\n",
      "Subject2:87\n",
      "Subject3:95\n",
      "Subject4:95\n",
      "Subject5:93\n",
      "Total: 468\n",
      "Percentage= 93.60000000000001\n"
     ]
    },
    {
     "data": {
      "text/plain": [
       "('Percentage=', 93.60000000000001)"
      ]
     },
     "execution_count": 6,
     "metadata": {},
     "output_type": "execute_result"
    }
   ],
   "source": [
    "Findpercentage.Percentage()"
   ]
  },
  {
   "cell_type": "code",
   "execution_count": 7,
   "metadata": {},
   "outputs": [],
   "source": [
    "class Triangle:\n",
    "    def triangle():\n",
    "        Ht=int(input(\"Height:\"))\n",
    "        Br1=int(input(\"Breadth:\"))\n",
    "        AreaTri=((Ht*Br1)/2)\n",
    "        print(\"Area formula: (Height*Breadth)/2\")\n",
    "        Variable=\"Area formula: (Height*Breadth)/2\"\n",
    "        print(\"Area of Triangle:\",AreaTri)\n",
    "        Variable=\"Area of Triangle:\",AreaTri\n",
    "        Ht1=int(input(\"Height1:\"))\n",
    "        Ht2=int(input(\"Height2:\"))\n",
    "        Br2=int(input(\"Breadth1:\"))\n",
    "        PeriTri=(Ht1+Ht2+Br2)\n",
    "        print(\"Perimeter formula: Height1+Height2+Breadth\")\n",
    "        Variable=\"Perimeter formula: Height1+Height2+Breadth\"\n",
    "        print(\"Area of Perimeter:\",PeriTri)\n",
    "        Variable=\"Area of Perimeter:\",PeriTri\n",
    "        return Variable"
   ]
  },
  {
   "cell_type": "code",
   "execution_count": 8,
   "metadata": {},
   "outputs": [
    {
     "name": "stdout",
     "output_type": "stream",
     "text": [
      "Height:32\n",
      "Breadth:34\n",
      "Area formula: (Height*Breadth)/2\n",
      "Area of Triangle: 544.0\n",
      "Height1:2\n",
      "Height2:4\n",
      "Breadth1:4\n",
      "Perimeter formula: Height1+Height2+Breadth\n",
      "Area of Perimeter: 10\n"
     ]
    },
    {
     "data": {
      "text/plain": [
       "('Area of Perimeter:', 10)"
      ]
     },
     "execution_count": 8,
     "metadata": {},
     "output_type": "execute_result"
    }
   ],
   "source": [
    "Triangle.triangle()"
   ]
  },
  {
   "cell_type": "code",
   "execution_count": null,
   "metadata": {},
   "outputs": [],
   "source": []
  }
 ],
 "metadata": {
  "kernelspec": {
   "display_name": "Python 3",
   "language": "python",
   "name": "python3"
  },
  "language_info": {
   "codemirror_mode": {
    "name": "ipython",
    "version": 3
   },
   "file_extension": ".py",
   "mimetype": "text/x-python",
   "name": "python",
   "nbconvert_exporter": "python",
   "pygments_lexer": "ipython3",
   "version": "3.7.4"
  }
 },
 "nbformat": 4,
 "nbformat_minor": 2
}
