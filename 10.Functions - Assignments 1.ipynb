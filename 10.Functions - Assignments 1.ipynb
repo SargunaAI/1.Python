{
 "cells": [
  {
   "cell_type": "code",
   "execution_count": 4,
   "metadata": {},
   "outputs": [
    {
     "name": "stdout",
     "output_type": "stream",
     "text": [
      "Sub-fields in AI are:\n",
      "Machine learning\n",
      "Neural Networks\n",
      "Vision\n",
      "Robotics\n",
      "Speech Processing\n",
      "Natural Language Processing\n"
     ]
    }
   ],
   "source": [
    "def subfields():\n",
    "    print(\"Sub-fields in AI are:\",\"Machine learning\",\"Neural Networks\",\"Vision\",\"Robotics\",\"Speech Processing\",\"Natural Language Processing\",sep=\"\\n\")\n",
    "subfields()   "
   ]
  },
  {
   "cell_type": "code",
   "execution_count": 32,
   "metadata": {},
   "outputs": [],
   "source": [
    "def OddEven():\n",
    "    a=int(input(\"Enter a number:\"))\n",
    "    if(a%2)==1:\n",
    "        print(a,\"is Odd number\")\n",
    "        Variable=\"a,is Odd number\"\n",
    "    else:\n",
    "        print(a,\"is Even Number\")\n",
    "        Variable=(\"a,is Even Number\")\n",
    "    return Variable"
   ]
  },
  {
   "cell_type": "code",
   "execution_count": 33,
   "metadata": {},
   "outputs": [
    {
     "name": "stdout",
     "output_type": "stream",
     "text": [
      "Enter a number:4\n",
      "4 is Even Number\n"
     ]
    },
    {
     "data": {
      "text/plain": [
       "'a,is Even Number'"
      ]
     },
     "execution_count": 33,
     "metadata": {},
     "output_type": "execute_result"
    }
   ],
   "source": [
    "OddEven()"
   ]
  },
  {
   "cell_type": "code",
   "execution_count": 5,
   "metadata": {},
   "outputs": [],
   "source": [
    "def Marriage():\n",
    "    Gender=input(\"Your Gender:\")\n",
    "    Age=int(input(\"Your age :\"))\n",
    "    if(Age<21):\n",
    "        print(\"NOT ELIGIBLE\")\n",
    "        Variable=\"NOT ELIGIBLE\"\n",
    "    else:\n",
    "        print(\"ELIGIBLE\")\n",
    "        Variable=\"ELIGIBLE\"\n",
    "    return Marriage"
   ]
  },
  {
   "cell_type": "code",
   "execution_count": 8,
   "metadata": {},
   "outputs": [
    {
     "name": "stdout",
     "output_type": "stream",
     "text": [
      "Your Gender:Male\n",
      "Your age :18\n",
      "NOT ELIGIBLE\n"
     ]
    },
    {
     "data": {
      "text/plain": [
       "<function __main__.Marriage()>"
      ]
     },
     "execution_count": 8,
     "metadata": {},
     "output_type": "execute_result"
    }
   ],
   "source": [
    "Marriage()"
   ]
  },
  {
   "cell_type": "code",
   "execution_count": 22,
   "metadata": {},
   "outputs": [],
   "source": [
    "def Percentage():\n",
    "    Subj1=23\n",
    "    Subj2=45\n",
    "    Subj3=34\n",
    "    Subj4=23\n",
    "    Subj5=23\n",
    "    Add=(Subj1+Subj2+Subj3+Subj4+Subj5)\n",
    "    Perc=((Add/500)*100)\n",
    "    print(\"Subject1:\",Subj1)\n",
    "    Variable=\"Subject1:\",Subj1\n",
    "    print(\"Subject2:\",Subj2)\n",
    "    Variable=\"Subject2:\",Subj2\n",
    "    print(\"Subject3:\",Subj3)\n",
    "    Variable=\"Subject3:\",Subj3\n",
    "    print(\"Subject4:\",Subj4)\n",
    "    Variable=\"Subject4:\",Subj4\n",
    "    print(\"Subject5:\",Subj5)\n",
    "    Variable=\"Subject5:\",Subj5\n",
    "    print(\"Total:\",Add)\n",
    "    Variable=\"Total:\",Add\n",
    "    print(\"Percentage=\",Perc)\n",
    "    Variable=\"Percentage=\",Perc\n",
    "    return Variable"
   ]
  },
  {
   "cell_type": "code",
   "execution_count": 23,
   "metadata": {},
   "outputs": [
    {
     "name": "stdout",
     "output_type": "stream",
     "text": [
      "Subject1: 23\n",
      "Subject2: 45\n",
      "Subject3: 34\n",
      "Subject4: 23\n",
      "Subject5: 23\n",
      "Total: 148\n",
      "Percentage= 29.599999999999998\n"
     ]
    },
    {
     "data": {
      "text/plain": [
       "('Percentage=', 29.599999999999998)"
      ]
     },
     "execution_count": 23,
     "metadata": {},
     "output_type": "execute_result"
    }
   ],
   "source": [
    "Percentage()"
   ]
  },
  {
   "cell_type": "code",
   "execution_count": 27,
   "metadata": {},
   "outputs": [],
   "source": [
    "def triangle():\n",
    "    Ht=3\n",
    "    Br1=4\n",
    "    AreaTri=((Ht*Br1)/2)\n",
    "    print(\"Height:\",Ht)\n",
    "    Variable=\"Height:\",Ht\n",
    "    print(\"Breadth:\",Br1)\n",
    "    Variable=\"Breadth:\",Br1\n",
    "    print(\"Area formula: (Height*Breadth)/2\")\n",
    "    Variable=\"Area formula: (Height*Breadth)/2\"\n",
    "    print(\"Area of Triangle:\",AreaTri)\n",
    "    Variable=\"Area of Triangle:\",AreaTri\n",
    "    Ht1=3\n",
    "    Ht2=4\n",
    "    Br2=45\n",
    "    PeriTri=(Ht1+Ht2+Br2)\n",
    "    print(\"Height1:\",Ht1)\n",
    "    Variable=\"Height1:\",Ht1\n",
    "    print(\"Height2:\",Ht2)\n",
    "    Variable=\"Height2:\",Ht2\n",
    "    print(\"Breadth1:\",Br2)\n",
    "    Variable=\"Breadth1:\",Br2\n",
    "    print(\"Perimeter formula: Height1+Height2+Breadth\")\n",
    "    Variable=\"Perimeter formula: Height1+Height2+Breadth\"\n",
    "    print(\"Area of Perimeter:\",PeriTri)\n",
    "    Variable=\"Area of Perimeter:\",PeriTri\n",
    "    return Variable"
   ]
  },
  {
   "cell_type": "code",
   "execution_count": 28,
   "metadata": {},
   "outputs": [
    {
     "name": "stdout",
     "output_type": "stream",
     "text": [
      "Height: 3\n",
      "Breadth: 4\n",
      "Area formula: (Height*Breadth)/2\n",
      "Area of Triangle: 6.0\n",
      "Height1: 3\n",
      "Height2: 4\n",
      "Breadth1: 45\n",
      "Perimeter formula: Height1+Height2+Breadth\n",
      "Area of Perimeter: 52\n"
     ]
    },
    {
     "data": {
      "text/plain": [
       "('Area of Perimeter:', 52)"
      ]
     },
     "execution_count": 28,
     "metadata": {},
     "output_type": "execute_result"
    }
   ],
   "source": [
    "triangle()"
   ]
  },
  {
   "cell_type": "code",
   "execution_count": null,
   "metadata": {},
   "outputs": [],
   "source": []
  }
 ],
 "metadata": {
  "kernelspec": {
   "display_name": "Python 3",
   "language": "python",
   "name": "python3"
  },
  "language_info": {
   "codemirror_mode": {
    "name": "ipython",
    "version": 3
   },
   "file_extension": ".py",
   "mimetype": "text/x-python",
   "name": "python",
   "nbconvert_exporter": "python",
   "pygments_lexer": "ipython3",
   "version": "3.7.4"
  }
 },
 "nbformat": 4,
 "nbformat_minor": 2
}
