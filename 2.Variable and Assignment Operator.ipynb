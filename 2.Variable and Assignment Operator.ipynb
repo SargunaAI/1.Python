{
 "cells": [
  {
   "cell_type": "code",
   "execution_count": 12,
   "metadata": {},
   "outputs": [
    {
     "name": "stdout",
     "output_type": "stream",
     "text": [
      "Pract 1-Addition of Three Numbers\n",
      "The Number 1: 7\n",
      "The Number 2: 7\n",
      "The Number 3: 7\n",
      "Answer: 21\n"
     ]
    }
   ],
   "source": [
    "print(\"Pract 1-Addition of Three Numbers\")\n",
    "num1=7\n",
    "num2=7\n",
    "num3=7\n",
    "print(\"The Number 1:\",num1)\n",
    "print(\"The Number 2:\",num2)\n",
    "print(\"The Number 3:\",num3)\n",
    "print(\"Answer:\",num1+num2+num3)"
   ]
  },
  {
   "cell_type": "code",
   "execution_count": 13,
   "metadata": {},
   "outputs": [
    {
     "name": "stdout",
     "output_type": "stream",
     "text": [
      "Pract2-Addition of Three Numbers\n",
      "The Number 1: 7\n",
      "The Number 2: 7\n",
      "The Number 3: 7\n",
      "Answer: 21\n"
     ]
    }
   ],
   "source": [
    "print(\"Pract2-Addition of Three Numbers\")\n",
    "num1=7\n",
    "num2=7\n",
    "num3=7\n",
    "add=(num1+num2+num3)\n",
    "print(\"The Number 1:\",num1)\n",
    "print(\"The Number 2:\",num2)\n",
    "print(\"The Number 3:\",num3)\n",
    "print(\"Answer:\",add)"
   ]
  },
  {
   "cell_type": "code",
   "execution_count": 14,
   "metadata": {},
   "outputs": [
    {
     "name": "stdout",
     "output_type": "stream",
     "text": [
      "Pract3-Addition1 of Three Numbers minus Addition2 of Three numbers\n",
      "The Number 1: 7\n",
      "The Number 2: 7\n",
      "The Number 3: 7\n",
      "Result1: 21\n",
      "The Number 4: 11\n",
      "The Number 5: 12\n",
      "The Number 6: 13\n",
      "Result2: 36\n",
      "Final Result:Result1-Result2 = -15\n"
     ]
    }
   ],
   "source": [
    "print(\"Pract3-Addition1 of Three Numbers minus Addition2 of Three numbers\")\n",
    "num1=7\n",
    "num2=7\n",
    "num3=7\n",
    "add1=(num1+num2+num3)\n",
    "print(\"The Number 1:\",num1)\n",
    "print(\"The Number 2:\",num2)\n",
    "print(\"The Number 3:\",num3)\n",
    "print(\"Result1:\",add1)\n",
    "num4=11\n",
    "num5=12\n",
    "num6=13\n",
    "add2=(num4+num5+num6)\n",
    "print(\"The Number 4:\",num4)\n",
    "print(\"The Number 5:\",num5)\n",
    "print(\"The Number 6:\",num6)\n",
    "print(\"Result2:\",add2)\n",
    "print(\"Final Result:Result1-Result2 =\",add1-add2)\n"
   ]
  },
  {
   "cell_type": "code",
   "execution_count": null,
   "metadata": {},
   "outputs": [],
   "source": []
  },
  {
   "cell_type": "code",
   "execution_count": null,
   "metadata": {},
   "outputs": [],
   "source": []
  }
 ],
 "metadata": {
  "kernelspec": {
   "display_name": "Python 3",
   "language": "python",
   "name": "python3"
  },
  "language_info": {
   "codemirror_mode": {
    "name": "ipython",
    "version": 3
   },
   "file_extension": ".py",
   "mimetype": "text/x-python",
   "name": "python",
   "nbconvert_exporter": "python",
   "pygments_lexer": "ipython3",
   "version": "3.7.4"
  }
 },
 "nbformat": 4,
 "nbformat_minor": 2
}
